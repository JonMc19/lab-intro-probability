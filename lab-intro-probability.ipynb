{
 "cells": [
  {
   "cell_type": "markdown",
   "metadata": {},
   "source": [
    "# Lab | Intro to Probability"
   ]
  },
  {
   "cell_type": "markdown",
   "metadata": {},
   "source": [
    "**Objective**\n",
    "\n",
    "Welcome to this Intro to Probability lab, where we explore decision-making scenarios through the lens of probability and strategic analysis. In the business world, making informed decisions is crucial, especially when faced with uncertainties. This lab focuses on scenarios where probabilistic outcomes play a significant role in shaping strategies and outcomes. Students will engage in exercises that require assessing and choosing optimal paths based on data-driven insights. The goal is to enhance your skills by applying probability concepts to solve real-world problems."
   ]
  },
  {
   "cell_type": "markdown",
   "metadata": {},
   "source": [
    "**Challenge 1**"
   ]
  },
  {
   "cell_type": "markdown",
   "metadata": {},
   "source": [
    "#### Ironhack Airlines \n",
    "\n",
    "Often Airlines sell more tickets than they have seats available, this is called overbooking. Consider the following:\n",
    "- A plane has 450 seats. \n",
    "- Based on historical data we conclude that each individual passenger has a 3% chance of missing it's flight. \n",
    "\n",
    "If the Ironhack Airlines routinely sells 460 tickets, what is the chance that they have a seats for all passenger?"
   ]
  },
  {
   "cell_type": "code",
   "execution_count": 5,
   "metadata": {},
   "outputs": [],
   "source": [
    "#code here\n",
    "disponibles = 450 #Disponibles\n",
    "vendidos = 460 #Vendidos\n",
    "p = 0.03 #Probabilidad de perder el vuelo\n",
    "probabilidad_de_asistir = 1 - p #Probabilidad de asistir al vuelo\n"
   ]
  },
  {
   "cell_type": "code",
   "execution_count": 3,
   "metadata": {},
   "outputs": [],
   "source": [
    "from scipy.stats import binom"
   ]
  },
  {
   "cell_type": "code",
   "execution_count": 8,
   "metadata": {},
   "outputs": [
    {
     "name": "stdout",
     "output_type": "stream",
     "text": [
      "La probabilidad de que asistan 450 pasajeros es: 0.8845\n"
     ]
    }
   ],
   "source": [
    "prob=binom.cdf(disponibles, vendidos, probabilidad_de_asistir)\n",
    "print(f\"La probabilidad de que asistan {disponibles} pasajeros es: {prob:.4f}\")"
   ]
  },
  {
   "cell_type": "markdown",
   "metadata": {},
   "source": [
    "**Challenge 2**"
   ]
  },
  {
   "cell_type": "markdown",
   "metadata": {},
   "source": [
    "#### Ironhack Call Center "
   ]
  },
  {
   "cell_type": "markdown",
   "metadata": {},
   "source": [
    "Suppose a customer service representative at a call center is handling customer complaints. Consider the following:\n",
    "- The probability of successfully resolving a customer complaint on the first attempt is 0.3. \n",
    "\n",
    "\n",
    "What is the probability that the representative needs to make at least three attempts before successfully resolving a customer complaint?"
   ]
  },
  {
   "cell_type": "code",
   "execution_count": 14,
   "metadata": {},
   "outputs": [],
   "source": [
    "#code here\n",
    "from scipy.stats import geom\n",
    "\n",
    "p = 0.3\n",
    "k=3"
   ]
  },
  {
   "cell_type": "code",
   "execution_count": 16,
   "metadata": {},
   "outputs": [
    {
     "data": {
      "text/plain": [
       "np.float64(0.49)"
      ]
     },
     "execution_count": 16,
     "metadata": {},
     "output_type": "execute_result"
    }
   ],
   "source": [
    "1-geom.cdf(k-1,p)"
   ]
  },
  {
   "cell_type": "code",
   "execution_count": 18,
   "metadata": {},
   "outputs": [
    {
     "data": {
      "text/plain": [
       "array([0.3       , 0.21      , 0.147     , 0.1029    , 0.07203   ,\n",
       "       0.050421  , 0.0352947 , 0.02470629, 0.0172944 , 0.01210608])"
      ]
     },
     "execution_count": 18,
     "metadata": {},
     "output_type": "execute_result"
    }
   ],
   "source": [
    "#Explicació\n",
    "\n",
    "ks=[1,2,3,4,5,6,7,8,9,10]\n",
    "ps= geom.pmf(ks,p)\n",
    "ps\n",
    "\n",
    "#La probabilitat de que es produeixi èxit a partir de la 3 trucada es el sumatori de \n",
    "# #la probabilitat de que es produeixi èxit a la 3 trucada, 4 trucada, 5 trucada, etc."
   ]
  },
  {
   "cell_type": "code",
   "execution_count": 19,
   "metadata": {},
   "outputs": [
    {
     "data": {
      "image/png": "[encoded data removed]",
      "text/plain": [
       "<Figure size 640x480 with 1 Axes>"
      ]
     },
     "metadata": {},
     "output_type": "display_data"
    }
   ],
   "source": [
    "import matplotlib.pyplot as plt\n",
    "import numpy as np\n",
    "plt.bar(ks, ps)\n",
    "plt.xlabel('Número de trucades')\n",
    "plt.ylabel('Probabilitat')\n",
    "plt.title('Distribució Geomètrica')\n",
    "plt.xticks(np.arange(1, 11, 1))\n",
    "plt.show()"
   ]
  },
  {
   "cell_type": "markdown",
   "metadata": {},
   "source": [
    "**Challenge 3**"
   ]
  },
  {
   "cell_type": "markdown",
   "metadata": {},
   "source": [
    "#### Ironhack Website"
   ]
  },
  {
   "cell_type": "markdown",
   "metadata": {},
   "source": [
    "Consider a scenario related to Ironhack website traffic. Where:\n",
    "- our website takes on average 500 visits per hour.\n",
    "- the website's server is designed to handle up to 550 vists per hour.\n",
    "\n",
    "\n",
    "What is the probability of the website server being overwhelmed?"
   ]
  },
  {
   "cell_type": "code",
   "execution_count": 22,
   "metadata": {},
   "outputs": [],
   "source": [
    "#code here\n",
    "\n",
    "from scipy.stats import poisson\n",
    "\n",
    "visitas_lambda = 500\n",
    "limite_server = 550"
   ]
  },
  {
   "cell_type": "code",
   "execution_count": 26,
   "metadata": {},
   "outputs": [
    {
     "name": "stdout",
     "output_type": "stream",
     "text": [
      "La probabilidad de que el servidor se caiga es: 0.0129\n"
     ]
    }
   ],
   "source": [
    "\n",
    "probabilidad_caida = 1-poisson.cdf(limite_server, visitas_lambda)\n",
    "\n",
    "print(f\"La probabilidad de que el servidor se caiga es: {probabilidad_caida:.4f}\")"
   ]
  },
  {
   "cell_type": "markdown",
   "metadata": {},
   "source": [
    "What is the probability of being overwhelmed at some point during a day? (consider 24hours)"
   ]
  },
  {
   "cell_type": "code",
   "execution_count": 30,
   "metadata": {},
   "outputs": [
    {
     "name": "stdout",
     "output_type": "stream",
     "text": [
      "La probabilitat que caigui al menys un cop en 24 hores es: 0.2677\n"
     ]
    }
   ],
   "source": [
    "p_caiguda_dia = 1-poisson.cdf(limite_server, visitas_lambda)**24\n",
    "print(f\"La probabilitat que caigui al menys un cop en 24 hores es: {p_caiguda_dia:.4f}\")"
   ]
  },
  {
   "cell_type": "markdown",
   "metadata": {},
   "source": [
    "**Challenge 4**"
   ]
  },
  {
   "cell_type": "markdown",
   "metadata": {},
   "source": [
    "#### Ironhack Helpdesk"
   ]
  },
  {
   "cell_type": "markdown",
   "metadata": {},
   "source": [
    "Consider a scenario related to the time between arrivals of customers at a service desk.\n",
    "\n",
    "On average, a customers arrives every 10minutes.\n",
    "\n",
    "What is the probability that the next customer will arrive within the next 5 minutes?"
   ]
  },
  {
   "cell_type": "code",
   "execution_count": 9,
   "metadata": {},
   "outputs": [
    {
     "name": "stdout",
     "output_type": "stream",
     "text": [
      "La probabilidad de que un cliente llegue en menos de 5 minutos es: 0.6065\n"
     ]
    }
   ],
   "source": [
    "import numpy as np\n",
    "\n",
    "lambda_clients = 10 \n",
    "x_prob = 5\n",
    "probabilidad_llegada = np.exp((-1/lambda_clients)*5)\n",
    "print(f\"La probabilidad de que un cliente llegue en menos de 5 minutos es: {probabilidad_llegada:.4f}\")"
   ]
  },
  {
   "cell_type": "code",
   "execution_count": 11,
   "metadata": {},
   "outputs": [],
   "source": [
    "#S'hauria de graficar\n",
    "\n",
    "# import numpy as np\n",
    "# import matplotlib.pyplot as plt\n",
    "\n",
    "# Tiempo en el eje X (0 a 1 minuto con muchos puntos por la alta tasa)\n",
    "# t = np.linspace(0, 1, 500)\n",
    "# cdf = np.exp((-1/lambda_clients)*t)  # CDF de la exponencial\n",
    "\n",
    "# Graficar\n",
    "# plt.figure(figsize=(8, 5))\n",
    "# plt.plot(t, cdf, label='Función de distribución acumulada (CDF)', color='blue')\n",
    "# plt.axvline(x_prob, color='red', linestyle='--', label=f'Tiempo = {x_prob} min')\n",
    "# plt.axhline(y=probabilidad_llegada, color='green', linestyle='--', label=f'Probabilidad = {probabilidad_llegada:.4f}')\n",
    "# plt.title('Probabilidad acumulada de llegada de clientes')\n",
    "# plt.xlabel('Tiempo (minutos)')\n",
    "# plt.ylabel('Probabilidad acumulada')\n",
    "# plt.legend()\n",
    "# plt.grid(True)\n",
    "# plt.tight_layout()\n",
    "# plt.show()\n"
   ]
  },
  {
   "cell_type": "markdown",
   "metadata": {},
   "source": [
    "If there is no customer for 15minutes, employees can that a 5minutes break.\n",
    "\n",
    "What is the probability an employee taking a break?"
   ]
  },
  {
   "cell_type": "code",
   "execution_count": 35,
   "metadata": {},
   "outputs": [],
   "source": [
    "probabilidad_descanso = np.exp((-1/lambda_clients)*15)"
   ]
  },
  {
   "cell_type": "markdown",
   "metadata": {},
   "source": [
    "**Challenge 5**"
   ]
  },
  {
   "cell_type": "markdown",
   "metadata": {},
   "source": [
    "The weights of a certain species of birds follow a normal distribution with a mean weight of 150 grams and a standard deviation of 10 grams. \n",
    "\n",
    "- If we randomly select a bird, what is the probability that its weight is between 140 and 160 grams?"
   ]
  },
  {
   "cell_type": "code",
   "execution_count": 37,
   "metadata": {},
   "outputs": [
    {
     "name": "stdout",
     "output_type": "stream",
     "text": [
      "La probabilidad de que un cliente esté entre 140 y 160 minutos es: 0.6827\n"
     ]
    }
   ],
   "source": [
    "from scipy.stats import norm\n",
    "\n",
    "media = 150\n",
    "sigma = 10\n",
    "\n",
    "probabilidad = norm.cdf(160, media, sigma) - norm.cdf(140, media, sigma)\n",
    "\n",
    "print(f\"La probabilidad de que un cliente esté entre 140 y 160 minutos es: {probabilidad:.4f}\")\n"
   ]
  },
  {
   "cell_type": "markdown",
   "metadata": {},
   "source": [
    "**Challenge 6**"
   ]
  },
  {
   "cell_type": "markdown",
   "metadata": {},
   "source": [
    "If the lifetime (in hours) of a certain electronic component follows an exponential distribution with a mean lifetime of 50 hours, what is the probability that the component fails within the first 30 hours?"
   ]
  },
  {
   "cell_type": "code",
   "execution_count": 39,
   "metadata": {},
   "outputs": [
    {
     "name": "stdout",
     "output_type": "stream",
     "text": [
      "La probabilidad de que un componente falle en 30 horas es: 0.5488\n"
     ]
    }
   ],
   "source": [
    "lambda_componente = 1/50\n",
    "probabilidad_fallo = np.exp(-lambda_componente * 30)\n",
    "\n",
    "print(f\"La probabilidad de que un componente falle en 30 horas es: {probabilidad_fallo:.4f}\")"
   ]
  }
 ],
 "metadata": {
  "kernelspec": {
   "display_name": "Python 3",
   "language": "python",
   "name": "python3"
  },
  "language_info": {
   "codemirror_mode": {
    "name": "ipython",
    "version": 3
   },
   "file_extension": ".py",
   "mimetype": "text/x-python",
   "name": "python",
   "nbconvert_exporter": "python",
   "pygments_lexer": "ipython3",
   "version": "3.12.9"
  }
 },
 "nbformat": 4,
 "nbformat_minor": 2
}
